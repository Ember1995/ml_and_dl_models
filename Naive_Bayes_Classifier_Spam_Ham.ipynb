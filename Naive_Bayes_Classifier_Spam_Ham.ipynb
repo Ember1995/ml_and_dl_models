{
  "nbformat": 4,
  "nbformat_minor": 0,
  "metadata": {
    "colab": {
      "provenance": []
    },
    "kernelspec": {
      "name": "python3",
      "display_name": "Python 3"
    },
    "language_info": {
      "name": "python"
    }
  },
  "cells": [
    {
      "cell_type": "markdown",
      "source": [
        "#### Step 1. Get Data"
      ],
      "metadata": {
        "id": "JVSu4mJrTGXz"
      }
    },
    {
      "cell_type": "code",
      "execution_count": null,
      "metadata": {
        "colab": {
          "base_uri": "https://localhost:8080/"
        },
        "id": "pvVVra4FRWy4",
        "outputId": "9a4a2d77-b379-4f8a-d695-f2ca55547d4d"
      },
      "outputs": [
        {
          "output_type": "stream",
          "name": "stdout",
          "text": [
            "--2024-08-18 19:49:04--  https://github.com/goitacademy/NUMERICAL-PROGRAMMING-IN-PYTHON/blob/main/SpamEmailClassificationDataset.zip?raw=true\n",
            "Resolving github.com (github.com)... 140.82.113.4\n",
            "Connecting to github.com (github.com)|140.82.113.4|:443... connected.\n",
            "HTTP request sent, awaiting response... 302 Found\n",
            "Location: https://github.com/goitacademy/NUMERICAL-PROGRAMMING-IN-PYTHON/raw/main/SpamEmailClassificationDataset.zip [following]\n",
            "--2024-08-18 19:49:04--  https://github.com/goitacademy/NUMERICAL-PROGRAMMING-IN-PYTHON/raw/main/SpamEmailClassificationDataset.zip\n",
            "Reusing existing connection to github.com:443.\n",
            "HTTP request sent, awaiting response... 302 Found\n",
            "Location: https://raw.githubusercontent.com/goitacademy/NUMERICAL-PROGRAMMING-IN-PYTHON/main/SpamEmailClassificationDataset.zip [following]\n",
            "--2024-08-18 19:49:04--  https://raw.githubusercontent.com/goitacademy/NUMERICAL-PROGRAMMING-IN-PYTHON/main/SpamEmailClassificationDataset.zip\n",
            "Resolving raw.githubusercontent.com (raw.githubusercontent.com)... 185.199.108.133, 185.199.109.133, 185.199.110.133, ...\n",
            "Connecting to raw.githubusercontent.com (raw.githubusercontent.com)|185.199.108.133|:443... connected.\n",
            "HTTP request sent, awaiting response... 200 OK\n",
            "Length: 7577397 (7.2M) [application/zip]\n",
            "Saving to: ‘SpamEmailClassificationDataset.zip’\n",
            "\n",
            "SpamEmailClassifica 100%[===================>]   7.23M  --.-KB/s    in 0.1s    \n",
            "\n",
            "2024-08-18 19:49:05 (75.3 MB/s) - ‘SpamEmailClassificationDataset.zip’ saved [7577397/7577397]\n",
            "\n"
          ]
        }
      ],
      "source": [
        "!wget -O SpamEmailClassificationDataset.zip https://github.com/goitacademy/NUMERICAL-PROGRAMMING-IN-PYTHON/blob/main/SpamEmailClassificationDataset.zip?raw=true\n"
      ]
    },
    {
      "cell_type": "markdown",
      "source": [
        "#### Step 2. Unzip Data"
      ],
      "metadata": {
        "id": "4dYYrIEZTJtm"
      }
    },
    {
      "cell_type": "code",
      "source": [
        "!unzip SpamEmailClassificationDataset.zip\n"
      ],
      "metadata": {
        "colab": {
          "base_uri": "https://localhost:8080/"
        },
        "id": "gemyLh4rRfD0",
        "outputId": "683b2cfc-79da-48a7-e88b-61aac14a549d"
      },
      "execution_count": null,
      "outputs": [
        {
          "output_type": "stream",
          "name": "stdout",
          "text": [
            "Archive:  SpamEmailClassificationDataset.zip\n",
            "replace SpamEmailClassificationDataset/combined_data.csv? [y]es, [n]o, [A]ll, [N]one, [r]ename: y\n",
            "  inflating: SpamEmailClassificationDataset/combined_data.csv  \n"
          ]
        }
      ]
    },
    {
      "cell_type": "markdown",
      "source": [
        "#### Step 3. Set the libraries"
      ],
      "metadata": {
        "id": "1V4FL3Y9TSHy"
      }
    },
    {
      "cell_type": "code",
      "source": [
        "import pandas as pd\n",
        "import seaborn as sns\n",
        "import matplotlib.pyplot as plt\n",
        "\n",
        "import re\n",
        "from nltk.corpus import stopwords\n",
        "from nltk.tokenize import word_tokenize\n",
        "from nltk.stem import WordNetLemmatizer\n",
        "\n",
        "import random\n",
        "from sklearn.model_selection import train_test_split\n",
        "from sklearn.metrics import precision_score, recall_score, f1_score, confusion_matrix, classification_report\n",
        "\n",
        "# Завантажимо стоп-слова\n",
        "import nltk\n",
        "nltk.download('stopwords')\n",
        "nltk.download('punkt')\n",
        "stop_words = set(stopwords.words('english'))\n",
        "nltk.download('wordnet')\n"
      ],
      "metadata": {
        "colab": {
          "base_uri": "https://localhost:8080/"
        },
        "id": "vbCXU5tfRkoE",
        "outputId": "d31860b9-b1e9-4ad9-9905-961988414780"
      },
      "execution_count": null,
      "outputs": [
        {
          "output_type": "stream",
          "name": "stderr",
          "text": [
            "[nltk_data] Downloading package stopwords to /root/nltk_data...\n",
            "[nltk_data]   Package stopwords is already up-to-date!\n",
            "[nltk_data] Downloading package punkt to /root/nltk_data...\n",
            "[nltk_data]   Package punkt is already up-to-date!\n",
            "[nltk_data] Downloading package wordnet to /root/nltk_data...\n",
            "[nltk_data]   Package wordnet is already up-to-date!\n"
          ]
        },
        {
          "output_type": "execute_result",
          "data": {
            "text/plain": [
              "True"
            ]
          },
          "metadata": {},
          "execution_count": 183
        }
      ]
    },
    {
      "cell_type": "markdown",
      "source": [
        "#### Step 4. Read, clean and reduce the dataframe\n",
        "\n"
      ],
      "metadata": {
        "id": "sKQYVwmgTZSx"
      }
    },
    {
      "cell_type": "code",
      "source": [
        "df = pd.read_csv('SpamEmailClassificationDataset/combined_data.csv')\n",
        "print(df['label'].value_counts())"
      ],
      "metadata": {
        "colab": {
          "base_uri": "https://localhost:8080/"
        },
        "id": "oFwJwKlCRxBq",
        "outputId": "2723cb95-5691-4e67-9bd0-b32ca049d83f"
      },
      "execution_count": null,
      "outputs": [
        {
          "output_type": "stream",
          "name": "stdout",
          "text": [
            "label\n",
            "1        7813\n",
            "0        7047\n",
            "label       1\n",
            "Name: count, dtype: int64\n"
          ]
        }
      ]
    },
    {
      "cell_type": "code",
      "source": [
        "print(df.iloc[0])"
      ],
      "metadata": {
        "colab": {
          "base_uri": "https://localhost:8080/"
        },
        "id": "11JkbUv5YndU",
        "outputId": "d1be6951-eac9-4909-bb29-764b97585453"
      },
      "execution_count": null,
      "outputs": [
        {
          "output_type": "stream",
          "name": "stdout",
          "text": [
            "label    label\n",
            "text      text\n",
            "Name: 0, dtype: object\n"
          ]
        }
      ]
    },
    {
      "cell_type": "code",
      "source": [
        "df = df[1:].reset_index(drop=True)\n",
        "print(df.iloc[0])"
      ],
      "metadata": {
        "colab": {
          "base_uri": "https://localhost:8080/"
        },
        "id": "JAZEUjQvZDey",
        "outputId": "7c3b2bbd-86eb-4ea3-95a4-69bdfb1ca9f5"
      },
      "execution_count": null,
      "outputs": [
        {
          "output_type": "stream",
          "name": "stdout",
          "text": [
            "label                                                    1\n",
            "text     ounce feather bowl hummingbird opec moment ala...\n",
            "Name: 0, dtype: object\n"
          ]
        }
      ]
    },
    {
      "cell_type": "code",
      "source": [
        "df_cutted = df.head(5000)\n",
        "print(df_cutted['label'].value_counts())"
      ],
      "metadata": {
        "colab": {
          "base_uri": "https://localhost:8080/"
        },
        "id": "d_VT8KCnTkB2",
        "outputId": "f957cae7-f47d-459a-b797-9fb21cda8cc3"
      },
      "execution_count": null,
      "outputs": [
        {
          "output_type": "stream",
          "name": "stdout",
          "text": [
            "label\n",
            "1    2675\n",
            "0    2325\n",
            "Name: count, dtype: int64\n"
          ]
        }
      ]
    },
    {
      "cell_type": "code",
      "source": [
        "print(f\"Overview {df_cutted.head}\")\n"
      ],
      "metadata": {
        "colab": {
          "base_uri": "https://localhost:8080/"
        },
        "id": "f_ZJlUGrVBvA",
        "outputId": "6216e90b-3765-4c7b-ecb2-20930d6d2bfa"
      },
      "execution_count": null,
      "outputs": [
        {
          "output_type": "stream",
          "name": "stdout",
          "text": [
            "Overview <bound method NDFrame.head of      label                                               text\n",
            "0        1  ounce feather bowl hummingbird opec moment ala...\n",
            "1        1  wulvob get your medircations online qnb ikud v...\n",
            "2        0   computer connection from cnn com wednesday es...\n",
            "3        1  university degree obtain a prosperous future m...\n",
            "4        0  thanks for all your answers guys i know i shou...\n",
            "...    ...                                                ...\n",
            "4995     1  good morning ,\\nwe we offer latest oem package...\n",
            "4996     0  the internet home of home news markets technol...\n",
            "4997     1                                            lakjsdf\n",
            "4998     1  liked it oh dear yes and sat smiling admiring ...\n",
            "4999     0   the daily top escapenumber from cnn com top v...\n",
            "\n",
            "[5000 rows x 2 columns]>\n"
          ]
        }
      ]
    },
    {
      "cell_type": "markdown",
      "source": [
        "#### Step 5. Visualize the Histogram"
      ],
      "metadata": {
        "id": "0guYS9EAU3oL"
      }
    },
    {
      "cell_type": "code",
      "source": [
        "sns.histplot(df_cutted['label'], kde=False)\n",
        "plt.title('Labels distribution')\n",
        "plt.xlabel('Class Label')\n",
        "plt.ylabel('Frequency')\n",
        "plt.show()"
      ],
      "metadata": {
        "colab": {
          "base_uri": "https://localhost:8080/",
          "height": 472
        },
        "id": "BIztbzUvXB3m",
        "outputId": "48f94264-ca79-462d-b3dc-7e897035c451"
      },
      "execution_count": null,
      "outputs": [
        {
          "output_type": "display_data",
          "data": {
            "text/plain": [
              "<Figure size 640x480 with 1 Axes>"
            ],
            "image/png": "[encoded data removed]"
          },
          "metadata": {}
        }
      ]
    },
    {
      "cell_type": "markdown",
      "source": [
        "#### Step 6. Text transformation"
      ],
      "metadata": {
        "id": "H_k49DHzbOgr"
      }
    },
    {
      "cell_type": "code",
      "source": [
        "corpus = []\n",
        "lemmatizer = WordNetLemmatizer()\n",
        "\n",
        "for document in df_cutted[\"text\"]:\n",
        "    original_length = len(document)\n",
        "\n",
        "    document = re.sub(\"[^a-zA-Z0-9@#]\", \" \", document).lower()\n",
        "    after_regex_length = len(document)\n",
        "\n",
        "    document = document.split()\n",
        "    after_split_length = len(document)\n",
        "\n",
        "    document = [lemmatizer.lemmatize(word) for word in document if word not in stop_words]\n",
        "    after_lemmatization_length = len(document)\n",
        "\n",
        "    document = list(set(document))\n",
        "    after_deduplication_length = len(document)\n",
        "\n",
        "    document = \" \".join(document)\n",
        "    corpus.append(document)\n",
        "\n",
        "df_cutted.loc[:, \"text\"] = corpus\n"
      ],
      "metadata": {
        "id": "3-cY_qOyZ6Rp"
      },
      "execution_count": null,
      "outputs": []
    },
    {
      "cell_type": "markdown",
      "source": [
        "#### Step 7. prepare the train_spam and train_ham\n",
        "\n",
        "In the context of our task, 'ham' refers to non-spam emails.\n",
        "The test data for both spam and non-spam (ham) groups is a subset of the original dataset."
      ],
      "metadata": {
        "id": "TtXb56hWbvnb"
      }
    },
    {
      "cell_type": "code",
      "source": [
        "# Split the data into spam and ham based on the 'label' column\n",
        "train_spam = df_cutted[df_cutted['label'] == \"1\"]['text'].tolist()\n",
        "train_ham = df_cutted[df_cutted['label'] == \"0\"]['text'].tolist()\n",
        "\n",
        "# Split the data into training and testing sets\n",
        "train_spam, test_spam = train_test_split(train_spam, test_size=0.2, random_state=42)\n",
        "train_ham, test_ham = train_test_split(train_ham, test_size=0.2, random_state=42)\n",
        "\n",
        "# Function to check the lengths of each list\n",
        "def check_lengths():\n",
        "    print(f\"Length of training spam data: {len(train_spam)}\")\n",
        "    print(f\"Length of testing spam data: {len(test_spam)}\")\n",
        "    print(f\"Length of training ham (not spam) data: {len(train_ham)}\")\n",
        "    print(f\"Length of testing ham (not spam) data: {len(test_ham)}\")\n",
        "\n",
        "# Call the function to check lengths\n",
        "check_lengths()"
      ],
      "metadata": {
        "colab": {
          "base_uri": "https://localhost:8080/"
        },
        "id": "D95ZnDZvvo8z",
        "outputId": "b59e6d51-f37e-4db5-d67f-eb2e7bb70fb7"
      },
      "execution_count": null,
      "outputs": [
        {
          "output_type": "stream",
          "name": "stdout",
          "text": [
            "Length of training spam data: 2140\n",
            "Length of testing spam data: 535\n",
            "Length of training ham (not spam) data: 1860\n",
            "Length of testing ham (not spam) data: 465\n"
          ]
        }
      ]
    },
    {
      "cell_type": "markdown",
      "source": [
        "#### Step 8. Define spamicity and hamicity"
      ],
      "metadata": {
        "id": "63RxpCn_xa-G"
      }
    },
    {
      "cell_type": "code",
      "source": [
        "# Count the words in spam messages\n",
        "vocab_words_spam = [word for sentence in train_spam for word in sentence.split()]\n",
        "vocab_unique_words_spam = list(set(vocab_words_spam))\n",
        "\n",
        "# Count the words in ham messages\n",
        "vocab_words_ham = [word for sentence in train_ham for word in sentence.split()]\n",
        "vocab_unique_words_ham = list(set(vocab_words_ham))\n",
        "\n",
        "# Calculate the spamicity and hamicity for each word\n",
        "dict_spamicity = {}\n",
        "dict_hamicity = {}\n",
        "\n",
        "total_spam = len(train_spam)\n",
        "total_ham = len(train_ham)\n",
        "\n",
        "# Calculate spamicity for each unique word in spam\n",
        "for w in vocab_unique_words_spam:\n",
        "    emails_with_w = sum(1 for sentence in train_spam if w in sentence)\n",
        "    spamicity = (emails_with_w + 1) / (total_spam + 2)  # with smoothing\n",
        "    dict_spamicity[w.lower()] = spamicity\n",
        "\n",
        "# Calculate hamicity for each unique word in ham\n",
        "for w in vocab_unique_words_ham:\n",
        "    emails_with_w = sum(1 for sentence in train_ham if w in sentence)\n",
        "    hamicity = (emails_with_w + 1) / (total_ham + 2)  # with smoothing\n",
        "    dict_hamicity[w.lower()] = hamicity"
      ],
      "metadata": {
        "id": "MaI-_V54xpZR"
      },
      "execution_count": null,
      "outputs": []
    },
    {
      "cell_type": "markdown",
      "source": [
        "#### Step 9. Define the probabilities and clasify the data"
      ],
      "metadata": {
        "id": "xQItd6IHzqeD"
      }
    },
    {
      "cell_type": "code",
      "source": [
        "# Calculate the probability of spam and ham\n",
        "prob_spam = len(train_spam) / (len(train_spam) + len(train_ham))\n",
        "prob_ham = len(train_ham) / (len(train_spam) + len(train_ham))\n",
        "\n",
        "# Function to multiply all word probabilities together\n",
        "def mult(list_):\n",
        "    total_prob = 1\n",
        "    for i in list_:\n",
        "        total_prob *= i\n",
        "    return total_prob\n",
        "\n",
        "# Function to calculate the probability based on Naive Bayes with binary interpretation\n",
        "def Bayes(email, epsilon=1e-10):\n",
        "    probs_s = []\n",
        "    probs_h = []\n",
        "    for word in email:\n",
        "        pr_WS = dict_spamicity.get(word, 1/(total_spam + 2))  # Smoothing for unknown words\n",
        "        pr_WH = dict_hamicity.get(word, 1/(total_ham + 2))    # Smoothing for unknown words\n",
        "\n",
        "        probs_s.append(pr_WS)\n",
        "        probs_h.append(pr_WH)\n",
        "\n",
        "    # Calculate the spam and ham probability for the email\n",
        "    prob_spam_email = prob_spam * mult(probs_s)\n",
        "    prob_ham_email = prob_ham * mult(probs_h)\n",
        "\n",
        "    # Final classification: classify as ham if ham probability is higher, else spam\n",
        "    if prob_ham_email > prob_spam_email:\n",
        "        return 0  # Ham\n",
        "    else:\n",
        "        return 1  # Spam"
      ],
      "metadata": {
        "id": "nDqI8VR_zPhK"
      },
      "execution_count": null,
      "outputs": []
    },
    {
      "cell_type": "markdown",
      "source": [
        "#### Step 10. Assess the result"
      ],
      "metadata": {
        "id": "dkjn7Wkb1oJK"
      }
    },
    {
      "cell_type": "code",
      "source": [
        "# Lists to store the true labels and predicted labels\n",
        "y_true = []\n",
        "y_pred = []\n",
        "\n",
        "# Predictions for spam emails\n",
        "for email in test_spam:\n",
        "    y_true.append(1)  # True label: spam\n",
        "    y_pred.append(Bayes(email.split()))  # Predicted label\n",
        "\n",
        "# Predictions for ham emails\n",
        "for email in test_ham:\n",
        "    y_true.append(0)  # True label: not spam (ham)\n",
        "    y_pred.append(Bayes(email.split()))  # Predicted label\n",
        "\n",
        "# Calculate precision, recall, and F1 score\n",
        "precision = precision_score(y_true, y_pred)\n",
        "recall = recall_score(y_true, y_pred)\n",
        "f1 = f1_score(y_true, y_pred)\n",
        "\n",
        "print(f\"Precision: {precision:.4f}\")\n",
        "print(f\"Recall: {recall:.4f}\")\n",
        "print(f\"F1 Score: {f1:.4f}\")\n",
        "\n",
        "# Generate and display the confusion matrix\n",
        "conf_matrix = confusion_matrix(y_true, y_pred)\n",
        "sns.heatmap(conf_matrix, annot=True, fmt='d', cmap='Blues', xticklabels=['Not Spam', 'Spam'], yticklabels=['Not Spam', 'Spam'])\n",
        "plt.xlabel('Predicted Label')\n",
        "plt.ylabel('True Label')\n",
        "plt.title('Confusion Matrix')\n",
        "plt.show()\n",
        "\n",
        "# Print a full classification report\n",
        "print(classification_report(y_true, y_pred, target_names=['Not Spam', 'Spam']))\n"
      ],
      "metadata": {
        "colab": {
          "base_uri": "https://localhost:8080/",
          "height": 680
        },
        "id": "0I9a3zzBAkRg",
        "outputId": "41a330e6-f433-4b1c-fab6-f12a10b7b67f"
      },
      "execution_count": null,
      "outputs": [
        {
          "output_type": "stream",
          "name": "stdout",
          "text": [
            "Precision: 0.8922\n",
            "Recall: 0.7271\n",
            "F1 Score: 0.8012\n"
          ]
        },
        {
          "output_type": "display_data",
          "data": {
            "text/plain": [
              "<Figure size 640x480 with 2 Axes>"
            ],
            "image/png": "[encoded data removed]"
          },
          "metadata": {}
        },
        {
          "output_type": "stream",
          "name": "stdout",
          "text": [
            "              precision    recall  f1-score   support\n",
            "\n",
            "    Not Spam       0.74      0.90      0.81       465\n",
            "        Spam       0.89      0.73      0.80       535\n",
            "\n",
            "    accuracy                           0.81      1000\n",
            "   macro avg       0.82      0.81      0.81      1000\n",
            "weighted avg       0.82      0.81      0.81      1000\n",
            "\n"
          ]
        }
      ]
    },
    {
      "cell_type": "markdown",
      "source": [
        "### Summary\n",
        "\n",
        "The model performs reasonably well overall with an accuracy of 81%. However, there is a trade-off between precision and recall, particularly for the \"Spam\" class. The model tends to miss some spam emails (false negatives), which could lead to spam slipping through to the user's inbox. If the goal is to minimize spam reaching users, further tuning or a different model may be necessary to improve recall for the \"Spam\" class without sacrificing too much precision."
      ],
      "metadata": {
        "id": "V5gv95QAB_o1"
      }
    }
  ]
}